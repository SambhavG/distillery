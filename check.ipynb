{
 "cells": [
  {
   "cell_type": "markdown",
   "id": "7abbe68a",
   "metadata": {},
   "source": [
    "# Generate data"
   ]
  },
  {
   "cell_type": "code",
   "execution_count": null,
   "id": "a18f2af9",
   "metadata": {},
   "outputs": [],
   "source": [
    "# Generate problems.json\n",
    "# Array of objects containing \"problem\" and \"solution\"\n",
    "# Each \"problem\" is a long jumble of words containing three numbers interspersed. The model has to find those numbers\n",
    "import random\n",
    "\n",
    "num_data = 1000\n",
    "for i in range(num_data):\n",
    "    # For problem, randomly sample 400 characters from the alphabet. Then go back and add three single digit numbers\n",
    "    alphabet = \"abcdefghijklmnopqrstuvwxyz\"\n",
    "    problem = \"\".join(random.choices(alphabet, k=100))\n",
    "    # Add three single digit numbers to the problem\n",
    "    nums = [random.randint(0, 9) for _ in range(3)]\n",
    "    # Randomly sample the position they should go\n",
    "    positions = random.sample(range(len(problem)), 3)\n",
    "    for i in range(3):\n",
    "        problem = problem[: positions[i]] + str(nums[i]) + problem[positions[i] + 1 :]\n",
    "    print(problem)\n",
    "    # print(nums)"
   ]
  },
  {
   "cell_type": "markdown",
   "id": "0e08874e",
   "metadata": {},
   "source": [
    "# Sample from the distilled model"
   ]
  },
  {
   "cell_type": "code",
   "execution_count": null,
   "id": "19c4d52d",
   "metadata": {},
   "outputs": [],
   "source": [
    "from transformers import AutoModelForCausalLM, AutoTokenizer\n",
    "from peft import PeftModel\n",
    "import torch\n",
    "\n",
    "base_model_name = \"Qwen/Qwen2.5-0.5B-Instruct\"\n",
    "adapter_path = \"6fffa21a285c4901a6dc30771f59a148/\"\n",
    "\n",
    "# Load base model and tokenizer\n",
    "tokenizer = AutoTokenizer.from_pretrained(base_model_name)\n",
    "model = AutoModelForCausalLM.from_pretrained(base_model_name)\n",
    "\n",
    "# Load LoRA adapter\n",
    "model = PeftModel.from_pretrained(model, adapter_path)"
   ]
  },
  {
   "cell_type": "code",
   "execution_count": null,
   "id": "21255da6",
   "metadata": {},
   "outputs": [],
   "source": [
    "# Sample input for the model\n",
    "system_prompt_path = \"s.txt\"\n",
    "with open(system_prompt_path, \"r\") as f:\n",
    "    system_prompt = f.read()\n",
    "\n",
    "user_query = \"eqsfrod1igjuzisevnrdljkfsgbvbmjwoaumjsokimcgjgduszdyccbqgc1uqga5gumtqlzflmccvkfjvlezcgcseqcsikybzumf\"\n",
    "# 115\n",
    "inputs = tokenizer(\n",
    "    system_prompt + \"\\n\" + user_query + \"\\n Response:\", return_tensors=\"pt\"\n",
    ")\n",
    "\n",
    "# Generate a response from the model\n",
    "with torch.no_grad():\n",
    "    output_ids = model.generate(\n",
    "        **inputs,\n",
    "        max_new_tokens=1024,\n",
    "        do_sample=True,\n",
    "        temperature=0.7,\n",
    "        top_p=0.95,\n",
    "        eos_token_id=tokenizer.eos_token_id\n",
    "    )\n",
    "\n",
    "# Decode and print the generated text\n",
    "generated_text = tokenizer.decode(output_ids[0], skip_special_tokens=True)\n",
    "print(\"Generated response:\\n\", generated_text)"
   ]
  },
  {
   "cell_type": "code",
   "execution_count": null,
   "id": "b7d80742",
   "metadata": {},
   "outputs": [],
   "source": []
  }
 ],
 "metadata": {
  "kernelspec": {
   "display_name": "distillery",
   "language": "python",
   "name": "python3"
  },
  "language_info": {
   "codemirror_mode": {
    "name": "ipython",
    "version": 3
   },
   "file_extension": ".py",
   "mimetype": "text/x-python",
   "name": "python",
   "nbconvert_exporter": "python",
   "pygments_lexer": "ipython3",
   "version": "3.12.11"
  }
 },
 "nbformat": 4,
 "nbformat_minor": 5
}
